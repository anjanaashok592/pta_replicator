{
 "cells": [
  {
   "cell_type": "code",
   "execution_count": 5,
   "id": "a1741125",
   "metadata": {},
   "outputs": [],
   "source": [
    "import numpy as np\n",
    "import os\n",
    "\n",
    "#path to the directory containing the original text files\n",
    "datadir = '/Users/ashokan/osu/sarahspta/pta_replicator/examples/'\n",
    "\n",
    "parfiles = list(np.genfromtxt(datadir + 'parfile_names.txt', dtype=str))\n",
    "timfiles = list(np.genfromtxt(datadir + 'timfile_names.txt', dtype=str))\n",
    "\n",
    "old_prefix = '/Users/vigeland/Documents/Research/NANOGrav/nanograv_data/NG20/Data/ng20_v1p0_dmx/parfiles/'\n",
    "new_prefix = '/Users/ashokan/osu/sarahspta/ng20/results/'\n",
    "\n",
    "old_prefix_tim = '/Users/vigeland/Documents/Research/NANOGrav/nanograv_data/NG20/Data/ng20_v1p0_dmx/timfiles/'\n",
    "new_prefix_tim = '/Users/ashokan/osu/sarahspta/NG20_prelim_v1p0_excised_toas/'\n",
    "\n",
    "parfiles_new = [p.replace(old_prefix, new_prefix) for p in parfiles]\n",
    "timfiles_new = [t.replace(old_prefix_tim, new_prefix_tim) for t in timfiles]\n",
    "np.savetxt(datadir + 'parfile_names_anj.txt', parfiles_new, fmt='%s')\n",
    "np.savetxt(datadir + 'timfile_names_anj.txt', timfiles_new, fmt='%s')\n"
   ]
  },
  {
   "cell_type": "code",
   "execution_count": 6,
   "id": "1c1aa06a",
   "metadata": {},
   "outputs": [
    {
     "name": "stdout",
     "output_type": "stream",
     "text": [
      "/Users/ashokan/osu/sarahspta/pta_replicator/examples/parfile_names_basename.txt\n",
      "/Users/ashokan/osu/sarahspta/pta_replicator/examples/timfile_names_basename.txt\n"
     ]
    }
   ],
   "source": [
    "# Extract only the pulsar file name without path\n",
    "parfiles_base = [os.path.basename(p) for p in parfiles]\n",
    "timfiles_base = [os.path.basename(t) for t in timfiles]\n",
    "\n",
    "np.savetxt(datadir + 'parfile_names_basename.txt', parfiles_base, fmt='%s')\n",
    "np.savetxt(datadir + 'timfile_names_basename.txt', timfiles_base, fmt='%s')\n",
    "\n",
    "print(datadir + 'parfile_names_basename.txt')\n",
    "print(datadir + 'timfile_names_basename.txt')\n"
   ]
  }
 ],
 "metadata": {
  "kernelspec": {
   "display_name": "sarahspta",
   "language": "python",
   "name": "python3"
  },
  "language_info": {
   "codemirror_mode": {
    "name": "ipython",
    "version": 3
   },
   "file_extension": ".py",
   "mimetype": "text/x-python",
   "name": "python",
   "nbconvert_exporter": "python",
   "pygments_lexer": "ipython3",
   "version": "3.12.0"
  }
 },
 "nbformat": 4,
 "nbformat_minor": 5
}
